{
  "cells": [
    {
      "metadata": {},
      "cell_type": "markdown",
      "source": "# The 2018 Midterms"
    },
    {
      "metadata": {
        "trusted": true
      },
      "cell_type": "code",
      "source": "import pandas as pd\nimport numpy as np",
      "execution_count": 1,
      "outputs": []
    },
    {
      "metadata": {},
      "cell_type": "markdown",
      "source": "## Context"
    },
    {
      "metadata": {
        "trusted": true
      },
      "cell_type": "code",
      "source": "elec2018 = pd.read_csv('../Datasets/2018-elections/election-context-2018.csv').set_index(['state', 'county'])\nelec2018.head()",
      "execution_count": 2,
      "outputs": [
        {
          "output_type": "execute_result",
          "execution_count": 2,
          "data": {
            "text/html": "<div>\n<style scoped>\n    .dataframe tbody tr th:only-of-type {\n        vertical-align: middle;\n    }\n\n    .dataframe tbody tr th {\n        vertical-align: top;\n    }\n\n    .dataframe thead th {\n        text-align: right;\n    }\n</style>\n<table border=\"1\" class=\"dataframe\">\n  <thead>\n    <tr style=\"text-align: right;\">\n      <th></th>\n      <th></th>\n      <th>fips</th>\n      <th>trump16</th>\n      <th>clinton16</th>\n      <th>otherpres16</th>\n      <th>romney12</th>\n      <th>obama12</th>\n      <th>otherpres12</th>\n      <th>demsen16</th>\n      <th>repsen16</th>\n      <th>othersen16</th>\n      <th>...</th>\n      <th>age29andunder_pct</th>\n      <th>age65andolder_pct</th>\n      <th>median_hh_inc</th>\n      <th>clf_unemploy_pct</th>\n      <th>lesshs_pct</th>\n      <th>lesscollege_pct</th>\n      <th>lesshs_whites_pct</th>\n      <th>lesscollege_whites_pct</th>\n      <th>rural_pct</th>\n      <th>ruralurban_cc</th>\n    </tr>\n    <tr>\n      <th>state</th>\n      <th>county</th>\n      <th></th>\n      <th></th>\n      <th></th>\n      <th></th>\n      <th></th>\n      <th></th>\n      <th></th>\n      <th></th>\n      <th></th>\n      <th></th>\n      <th></th>\n      <th></th>\n      <th></th>\n      <th></th>\n      <th></th>\n      <th></th>\n      <th></th>\n      <th></th>\n      <th></th>\n      <th></th>\n      <th></th>\n    </tr>\n  </thead>\n  <tbody>\n    <tr>\n      <th rowspan=\"5\" valign=\"top\">Alabama</th>\n      <th>Autauga</th>\n      <td>1001</td>\n      <td>18172</td>\n      <td>5936</td>\n      <td>865</td>\n      <td>17379</td>\n      <td>6363</td>\n      <td>190</td>\n      <td>6331.0</td>\n      <td>18220.0</td>\n      <td>62.0</td>\n      <td>...</td>\n      <td>40.037058</td>\n      <td>13.978456</td>\n      <td>53099.0</td>\n      <td>5.591657</td>\n      <td>12.417046</td>\n      <td>75.407229</td>\n      <td>10.002112</td>\n      <td>74.065601</td>\n      <td>42.002162</td>\n      <td>2.0</td>\n    </tr>\n    <tr>\n      <th>Baldwin</th>\n      <td>1003</td>\n      <td>72883</td>\n      <td>18458</td>\n      <td>3874</td>\n      <td>66016</td>\n      <td>18424</td>\n      <td>898</td>\n      <td>19145.0</td>\n      <td>74021.0</td>\n      <td>248.0</td>\n      <td>...</td>\n      <td>35.474412</td>\n      <td>18.714851</td>\n      <td>51365.0</td>\n      <td>6.286843</td>\n      <td>9.972418</td>\n      <td>70.452889</td>\n      <td>7.842227</td>\n      <td>68.405607</td>\n      <td>42.279099</td>\n      <td>3.0</td>\n    </tr>\n    <tr>\n      <th>Barbour</th>\n      <td>1005</td>\n      <td>5454</td>\n      <td>4871</td>\n      <td>144</td>\n      <td>5550</td>\n      <td>5912</td>\n      <td>47</td>\n      <td>4777.0</td>\n      <td>5436.0</td>\n      <td>16.0</td>\n      <td>...</td>\n      <td>37.664387</td>\n      <td>16.528895</td>\n      <td>33956.0</td>\n      <td>12.824738</td>\n      <td>26.235928</td>\n      <td>87.132213</td>\n      <td>19.579752</td>\n      <td>81.364746</td>\n      <td>67.789635</td>\n      <td>6.0</td>\n    </tr>\n    <tr>\n      <th>Bibb</th>\n      <td>1007</td>\n      <td>6738</td>\n      <td>1874</td>\n      <td>207</td>\n      <td>6132</td>\n      <td>2202</td>\n      <td>86</td>\n      <td>2082.0</td>\n      <td>6612.0</td>\n      <td>17.0</td>\n      <td>...</td>\n      <td>37.329435</td>\n      <td>14.885699</td>\n      <td>39776.0</td>\n      <td>7.146827</td>\n      <td>19.301587</td>\n      <td>88.000000</td>\n      <td>15.020490</td>\n      <td>87.471774</td>\n      <td>68.352607</td>\n      <td>1.0</td>\n    </tr>\n    <tr>\n      <th>Blount</th>\n      <td>1009</td>\n      <td>22859</td>\n      <td>2156</td>\n      <td>573</td>\n      <td>20757</td>\n      <td>2970</td>\n      <td>279</td>\n      <td>2980.0</td>\n      <td>22169.0</td>\n      <td>48.0</td>\n      <td>...</td>\n      <td>37.240053</td>\n      <td>17.192916</td>\n      <td>46212.0</td>\n      <td>5.953833</td>\n      <td>19.968585</td>\n      <td>86.950243</td>\n      <td>16.643368</td>\n      <td>86.163610</td>\n      <td>89.951502</td>\n      <td>1.0</td>\n    </tr>\n  </tbody>\n</table>\n<p>5 rows × 37 columns</p>\n</div>",
            "text/plain": "                 fips  trump16  clinton16  otherpres16  romney12  obama12  \\\nstate   county                                                              \nAlabama Autauga  1001    18172       5936          865     17379     6363   \n        Baldwin  1003    72883      18458         3874     66016    18424   \n        Barbour  1005     5454       4871          144      5550     5912   \n        Bibb     1007     6738       1874          207      6132     2202   \n        Blount   1009    22859       2156          573     20757     2970   \n\n                 otherpres12  demsen16  repsen16  othersen16      ...        \\\nstate   county                                                    ...         \nAlabama Autauga          190    6331.0   18220.0        62.0      ...         \n        Baldwin          898   19145.0   74021.0       248.0      ...         \n        Barbour           47    4777.0    5436.0        16.0      ...         \n        Bibb              86    2082.0    6612.0        17.0      ...         \n        Blount           279    2980.0   22169.0        48.0      ...         \n\n                 age29andunder_pct  age65andolder_pct  median_hh_inc  \\\nstate   county                                                         \nAlabama Autauga          40.037058          13.978456        53099.0   \n        Baldwin          35.474412          18.714851        51365.0   \n        Barbour          37.664387          16.528895        33956.0   \n        Bibb             37.329435          14.885699        39776.0   \n        Blount           37.240053          17.192916        46212.0   \n\n                 clf_unemploy_pct  lesshs_pct  lesscollege_pct  \\\nstate   county                                                   \nAlabama Autauga          5.591657   12.417046        75.407229   \n        Baldwin          6.286843    9.972418        70.452889   \n        Barbour         12.824738   26.235928        87.132213   \n        Bibb             7.146827   19.301587        88.000000   \n        Blount           5.953833   19.968585        86.950243   \n\n                 lesshs_whites_pct  lesscollege_whites_pct  rural_pct  \\\nstate   county                                                          \nAlabama Autauga          10.002112               74.065601  42.002162   \n        Baldwin           7.842227               68.405607  42.279099   \n        Barbour          19.579752               81.364746  67.789635   \n        Bibb             15.020490               87.471774  68.352607   \n        Blount           16.643368               86.163610  89.951502   \n\n                 ruralurban_cc  \nstate   county                  \nAlabama Autauga            2.0  \n        Baldwin            3.0  \n        Barbour            6.0  \n        Bibb               1.0  \n        Blount             1.0  \n\n[5 rows x 37 columns]"
          },
          "metadata": {}
        }
      ]
    },
    {
      "metadata": {},
      "cell_type": "markdown",
      "source": "### What Statistics Do We Have?\nWhat kind of contextual information do we have here? Let's list the column labels and their respective indexes. (Note that I've cheated a bit and limited the list to make it managabe; everything after the 19th index is the same `pop_stats` slice.)"
    },
    {
      "metadata": {
        "trusted": true
      },
      "cell_type": "code",
      "source": "list(enumerate(elec2018.columns))[:20]",
      "execution_count": 3,
      "outputs": [
        {
          "output_type": "execute_result",
          "execution_count": 3,
          "data": {
            "text/plain": "[(0, 'fips'),\n (1, 'trump16'),\n (2, 'clinton16'),\n (3, 'otherpres16'),\n (4, 'romney12'),\n (5, 'obama12'),\n (6, 'otherpres12'),\n (7, 'demsen16'),\n (8, 'repsen16'),\n (9, 'othersen16'),\n (10, 'demhouse16'),\n (11, 'rephouse16'),\n (12, 'otherhouse16'),\n (13, 'demgov16'),\n (14, 'repgov16'),\n (15, 'othergov16'),\n (16, 'repgov14'),\n (17, 'demgov14'),\n (18, 'othergov14'),\n (19, 'total_population')]"
          },
          "metadata": {}
        }
      ]
    },
    {
      "metadata": {},
      "cell_type": "markdown",
      "source": "#### Some Useful Index Slices"
    },
    {
      "metadata": {
        "trusted": true
      },
      "cell_type": "code",
      "source": "# All presidential slices\npres = elec2018.columns[1:7]\npres16 = pres[:3]\npres12 = pres[3:]\n\n# All congressional slices\ncongress = elec2018.columns[7:13]\nsenate = congress[:3]\nhouse = congress[3:]\n\n# All gubernatorial slices\ngov = elec2018.columns[13:19]\ngov16 = gov[:3]\ngov14 = gov[3:]\n\n# Partisan slices\ndem = [ind for ind in elec2018.columns if 'dem' in ind] + ['clinton16', 'obama12']\nrep = [ind for ind in elec2018.columns if 'rep' in ind] + ['trump16', 'romney12']\n\n# Population slices\npop_stats = elec2018.columns[19:]",
      "execution_count": 4,
      "outputs": []
    },
    {
      "metadata": {},
      "cell_type": "markdown",
      "source": "#### Romney-Clinton Counties"
    },
    {
      "metadata": {
        "trusted": true
      },
      "cell_type": "code",
      "source": "rom_clin = elec2018[(elec2018['clinton16'] > elec2018['trump16'])\n                    & (elec2018['romney12'] > elec2018['obama12'])]\nrom_clin.loc[:, pres].head()",
      "execution_count": 5,
      "outputs": [
        {
          "output_type": "execute_result",
          "execution_count": 5,
          "data": {
            "text/html": "<div>\n<style scoped>\n    .dataframe tbody tr th:only-of-type {\n        vertical-align: middle;\n    }\n\n    .dataframe tbody tr th {\n        vertical-align: top;\n    }\n\n    .dataframe thead th {\n        text-align: right;\n    }\n</style>\n<table border=\"1\" class=\"dataframe\">\n  <thead>\n    <tr style=\"text-align: right;\">\n      <th></th>\n      <th></th>\n      <th>trump16</th>\n      <th>clinton16</th>\n      <th>otherpres16</th>\n      <th>romney12</th>\n      <th>obama12</th>\n      <th>otherpres12</th>\n    </tr>\n    <tr>\n      <th>state</th>\n      <th>county</th>\n      <th></th>\n      <th></th>\n      <th></th>\n      <th></th>\n      <th></th>\n      <th></th>\n    </tr>\n  </thead>\n  <tbody>\n    <tr>\n      <th rowspan=\"2\" valign=\"top\">California</th>\n      <th>Nevada</th>\n      <td>23365</td>\n      <td>26053</td>\n      <td>5517</td>\n      <td>24986</td>\n      <td>24663</td>\n      <td>2027</td>\n    </tr>\n    <tr>\n      <th>Orange</th>\n      <td>507148</td>\n      <td>609961</td>\n      <td>80412</td>\n      <td>582332</td>\n      <td>512440</td>\n      <td>27892</td>\n    </tr>\n    <tr>\n      <th rowspan=\"3\" valign=\"top\">Georgia</th>\n      <th>Cobb</th>\n      <td>152912</td>\n      <td>160121</td>\n      <td>17786</td>\n      <td>171722</td>\n      <td>133124</td>\n      <td>5270</td>\n    </tr>\n    <tr>\n      <th>Gwinnett</th>\n      <td>146989</td>\n      <td>166153</td>\n      <td>15189</td>\n      <td>159855</td>\n      <td>132509</td>\n      <td>4364</td>\n    </tr>\n    <tr>\n      <th>Henry</th>\n      <td>45724</td>\n      <td>50057</td>\n      <td>2985</td>\n      <td>46774</td>\n      <td>43761</td>\n      <td>843</td>\n    </tr>\n  </tbody>\n</table>\n</div>",
            "text/plain": "                     trump16  clinton16  otherpres16  romney12  obama12  \\\nstate      county                                                         \nCalifornia Nevada      23365      26053         5517     24986    24663   \n           Orange     507148     609961        80412    582332   512440   \nGeorgia    Cobb       152912     160121        17786    171722   133124   \n           Gwinnett   146989     166153        15189    159855   132509   \n           Henry       45724      50057         2985     46774    43761   \n\n                     otherpres12  \nstate      county                 \nCalifornia Nevada           2027  \n           Orange          27892  \nGeorgia    Cobb             5270  \n           Gwinnett         4364  \n           Henry             843  "
          },
          "metadata": {}
        }
      ]
    },
    {
      "metadata": {},
      "cell_type": "markdown",
      "source": "#### Obama-Trump Counties"
    },
    {
      "metadata": {
        "trusted": true
      },
      "cell_type": "code",
      "source": "obama_trump = elec2018[(elec2018['clinton16'] < elec2018['trump16'])\n                    & (elec2018['romney12'] < elec2018['obama12'])]\nobama_trump.loc[:, pres].head()",
      "execution_count": 6,
      "outputs": [
        {
          "output_type": "execute_result",
          "execution_count": 6,
          "data": {
            "text/html": "<div>\n<style scoped>\n    .dataframe tbody tr th:only-of-type {\n        vertical-align: middle;\n    }\n\n    .dataframe tbody tr th {\n        vertical-align: top;\n    }\n\n    .dataframe thead th {\n        text-align: right;\n    }\n</style>\n<table border=\"1\" class=\"dataframe\">\n  <thead>\n    <tr style=\"text-align: right;\">\n      <th></th>\n      <th></th>\n      <th>trump16</th>\n      <th>clinton16</th>\n      <th>otherpres16</th>\n      <th>romney12</th>\n      <th>obama12</th>\n      <th>otherpres12</th>\n    </tr>\n    <tr>\n      <th>state</th>\n      <th>county</th>\n      <th></th>\n      <th></th>\n      <th></th>\n      <th></th>\n      <th></th>\n      <th></th>\n    </tr>\n  </thead>\n  <tbody>\n    <tr>\n      <th rowspan=\"2\" valign=\"top\">Alabama</th>\n      <th>Barbour</th>\n      <td>5454</td>\n      <td>4871</td>\n      <td>144</td>\n      <td>5550</td>\n      <td>5912</td>\n      <td>47</td>\n    </tr>\n    <tr>\n      <th>Conecuh</th>\n      <td>3420</td>\n      <td>3080</td>\n      <td>85</td>\n      <td>3439</td>\n      <td>3555</td>\n      <td>28</td>\n    </tr>\n    <tr>\n      <th>Arkansas</th>\n      <th>Woodruff</th>\n      <td>1347</td>\n      <td>1118</td>\n      <td>106</td>\n      <td>1227</td>\n      <td>1340</td>\n      <td>118</td>\n    </tr>\n    <tr>\n      <th rowspan=\"2\" valign=\"top\">Colorado</th>\n      <th>Chaffee</th>\n      <td>5391</td>\n      <td>4888</td>\n      <td>971</td>\n      <td>5070</td>\n      <td>5086</td>\n      <td>306</td>\n    </tr>\n    <tr>\n      <th>Conejos</th>\n      <td>1914</td>\n      <td>1771</td>\n      <td>337</td>\n      <td>1835</td>\n      <td>2213</td>\n      <td>53</td>\n    </tr>\n  </tbody>\n</table>\n</div>",
            "text/plain": "                   trump16  clinton16  otherpres16  romney12  obama12  \\\nstate    county                                                         \nAlabama  Barbour      5454       4871          144      5550     5912   \n         Conecuh      3420       3080           85      3439     3555   \nArkansas Woodruff     1347       1118          106      1227     1340   \nColorado Chaffee      5391       4888          971      5070     5086   \n         Conejos      1914       1771          337      1835     2213   \n\n                   otherpres12  \nstate    county                 \nAlabama  Barbour            47  \n         Conecuh            28  \nArkansas Woodruff          118  \nColorado Chaffee           306  \n         Conejos            53  "
          },
          "metadata": {}
        }
      ]
    },
    {
      "metadata": {
        "trusted": true
      },
      "cell_type": "code",
      "source": "flips = rom_clin.append(obama_trump, sort=True)\nflips.loc[:, pres]",
      "execution_count": 8,
      "outputs": [
        {
          "output_type": "error",
          "ename": "TypeError",
          "evalue": "append() got an unexpected keyword argument 'sort'",
          "traceback": [
            "\u001b[0;31m---------------------------------------------------------------------------\u001b[0m",
            "\u001b[0;31mTypeError\u001b[0m                                 Traceback (most recent call last)",
            "\u001b[0;32m<ipython-input-8-29c523ffd673>\u001b[0m in \u001b[0;36m<module>\u001b[0;34m\u001b[0m\n\u001b[0;32m----> 1\u001b[0;31m \u001b[0mflips\u001b[0m \u001b[0;34m=\u001b[0m \u001b[0mrom_clin\u001b[0m\u001b[0;34m.\u001b[0m\u001b[0mappend\u001b[0m\u001b[0;34m(\u001b[0m\u001b[0mobama_trump\u001b[0m\u001b[0;34m,\u001b[0m \u001b[0msort\u001b[0m\u001b[0;34m=\u001b[0m\u001b[0;32mTrue\u001b[0m\u001b[0;34m)\u001b[0m\u001b[0;34m\u001b[0m\u001b[0m\n\u001b[0m\u001b[1;32m      2\u001b[0m \u001b[0mflips\u001b[0m\u001b[0;34m.\u001b[0m\u001b[0mloc\u001b[0m\u001b[0;34m[\u001b[0m\u001b[0;34m:\u001b[0m\u001b[0;34m,\u001b[0m \u001b[0mpres\u001b[0m\u001b[0;34m]\u001b[0m\u001b[0;34m\u001b[0m\u001b[0m\n",
            "\u001b[0;31mTypeError\u001b[0m: append() got an unexpected keyword argument 'sort'"
          ]
        }
      ]
    },
    {
      "metadata": {},
      "cell_type": "markdown",
      "source": "#### Largest Flips in the Nations\nLet's find which counties showed the change relative to the size of their electorate."
    },
    {
      "metadata": {
        "trusted": true
      },
      "cell_type": "code",
      "source": "rom_clin16 = rom_clin.loc[:, pres16].sum(1)\nrom_clin12 = rom_clin.loc[:, pres12].sum(1)\nrom_clin12.head()",
      "execution_count": 9,
      "outputs": [
        {
          "output_type": "execute_result",
          "execution_count": 9,
          "data": {
            "text/plain": "state       county  \nCalifornia  Nevada        51676\n            Orange      1122664\nGeorgia     Cobb         310116\n            Gwinnett     296728\n            Henry         91378\ndtype: int64"
          },
          "metadata": {}
        }
      ]
    },
    {
      "metadata": {},
      "cell_type": "markdown",
      "source": "#### The Electorates\nFirst we'll need to get a sum of the entire electorate in these counties. To do this we will get the sum of all three presidential columns for each election. Recall that this includes third party candidates."
    },
    {
      "metadata": {
        "trusted": true
      },
      "cell_type": "code",
      "source": "obama_trump16 = obama_trump.loc[:, pres16].sum(1)\nobama_trump12 = obama_trump.loc[:, pres12].sum(1)\nobama_trump12.head()",
      "execution_count": 10,
      "outputs": [
        {
          "output_type": "execute_result",
          "execution_count": 10,
          "data": {
            "text/plain": "state     county  \nAlabama   Barbour     11509\n          Conecuh      7022\nArkansas  Woodruff     2685\nColorado  Chaffee     10462\n          Conejos      4101\ndtype: int64"
          },
          "metadata": {}
        }
      ]
    },
    {
      "metadata": {},
      "cell_type": "markdown",
      "source": "#### Relative Differences\nWe get the relative differences by taking the percentage of the votes of each electorate the candidates earned and subtracting those two numbers. Because we have third party candidates, there is a difference between the voters who went _away_ from one party and the candidates who went _to_ another. This is illustrated below. If we had only summated the votes from the two major parties, the two lists below would be identical."
    },
    {
      "metadata": {
        "trusted": true
      },
      "cell_type": "code",
      "source": "clinton_loss = abs((obama_trump['clinton16'] / obama_trump16) - (obama_trump['obama12'] / obama_trump12))\nclinton_loss.sort_values(ascending=False)[:10]",
      "execution_count": 11,
      "outputs": [
        {
          "output_type": "execute_result",
          "execution_count": 11,
          "data": {
            "text/plain": "state         county   \nKentucky      Elliott      0.235178\nIowa          Howard       0.228066\nIllinois      Henderson    0.226061\nIowa          Jackson      0.204580\n              Worth        0.203871\nVermont       Essex        0.201660\nMinnesota     Swift        0.199805\nNorth Dakota  Ransom       0.198579\nIowa          Chickasaw    0.195982\nNorth Dakota  Sargent      0.188104\ndtype: float64"
          },
          "metadata": {}
        }
      ]
    },
    {
      "metadata": {
        "trusted": true
      },
      "cell_type": "code",
      "source": "trump_gain = abs((obama_trump['trump16'] / obama_trump16) - (obama_trump['romney12'] / obama_trump12))\ntrump_gain.sort_values(ascending=False)[:10]",
      "execution_count": 12,
      "outputs": [
        {
          "output_type": "execute_result",
          "execution_count": 12,
          "data": {
            "text/plain": "state      county    \nKentucky   Elliott       0.231163\nIowa       Howard        0.186276\nIllinois   Henderson     0.180669\nNew York   Oswego        0.179756\nIowa       Worth         0.158202\n           Jackson       0.157058\nNew York   Franklin      0.156666\nMinnesota  Swift         0.154164\nNew York   Montgomery    0.150676\n           Cayuga        0.150416\ndtype: float64"
          },
          "metadata": {}
        }
      ]
    },
    {
      "metadata": {},
      "cell_type": "markdown",
      "source": "Notice that there is enough difference for counties to move up and down in the sorted lists."
    },
    {
      "metadata": {
        "trusted": true
      },
      "cell_type": "code",
      "source": "(trump_gain - clinton_loss).sort_values(ascending=False).head()",
      "execution_count": 13,
      "outputs": [
        {
          "output_type": "execute_result",
          "execution_count": 13,
          "data": {
            "text/plain": "state     county    \nNew York  Suffolk       0.055395\n          Montgomery    0.051070\n          Niagara       0.048477\n          Richmond      0.046134\n          Rensselaer    0.041925\ndtype: float64"
          },
          "metadata": {}
        }
      ]
    },
    {
      "metadata": {
        "trusted": true
      },
      "cell_type": "code",
      "source": "(clinton_loss - trump_gain).sort_values(ascending=False).head()",
      "execution_count": 14,
      "outputs": [
        {
          "output_type": "execute_result",
          "execution_count": 14,
          "data": {
            "text/plain": "state         county  \nVermont       Essex       0.102799\nNorth Dakota  Ransom      0.101732\n              Benson      0.094309\n              Sargent     0.081254\nNew Mexico    Valencia    0.077951\ndtype: float64"
          },
          "metadata": {}
        }
      ]
    }
  ],
  "metadata": {
    "kernelspec": {
      "name": "python36",
      "display_name": "Python 3.6",
      "language": "python"
    },
    "language_info": {
      "mimetype": "text/x-python",
      "nbconvert_exporter": "python",
      "name": "python",
      "pygments_lexer": "ipython3",
      "version": "3.6.6",
      "file_extension": ".py",
      "codemirror_mode": {
        "version": 3,
        "name": "ipython"
      }
    }
  },
  "nbformat": 4,
  "nbformat_minor": 2
}