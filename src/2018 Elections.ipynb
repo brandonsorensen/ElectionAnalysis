{
 "cells": [
  {
   "cell_type": "markdown",
   "metadata": {},
   "source": [
    "# The 2018 Midterms"
   ]
  },
  {
   "cell_type": "markdown",
   "metadata": {},
   "source": [
    "## Context"
   ]
  },
  {
   "cell_type": "markdown",
   "metadata": {},
   "source": [
    "### Recent Presidential Elections"
   ]
  },
  {
   "cell_type": "markdown",
   "metadata": {
    "heading_collapsed": true
   },
   "source": [
    "#### Setting Up the DataFrame"
   ]
  },
  {
   "cell_type": "code",
   "execution_count": 111,
   "metadata": {
    "hidden": true
   },
   "outputs": [],
   "source": [
    "%matplotlib inline\n",
    "import pandas as pd\n",
    "import numpy as np\n",
    "import matplotlib.pyplot as plt"
   ]
  },
  {
   "cell_type": "code",
   "execution_count": 112,
   "metadata": {
    "hidden": true
   },
   "outputs": [
    {
     "data": {
      "text/html": [
       "<div>\n",
       "<style scoped>\n",
       "    .dataframe tbody tr th:only-of-type {\n",
       "        vertical-align: middle;\n",
       "    }\n",
       "\n",
       "    .dataframe tbody tr th {\n",
       "        vertical-align: top;\n",
       "    }\n",
       "\n",
       "    .dataframe thead th {\n",
       "        text-align: right;\n",
       "    }\n",
       "</style>\n",
       "<table border=\"1\" class=\"dataframe\">\n",
       "  <thead>\n",
       "    <tr style=\"text-align: right;\">\n",
       "      <th></th>\n",
       "      <th></th>\n",
       "      <th>trump16</th>\n",
       "      <th>clinton16</th>\n",
       "      <th>otherpres16</th>\n",
       "      <th>romney12</th>\n",
       "      <th>obama12</th>\n",
       "      <th>otherpres12</th>\n",
       "      <th>demsen16</th>\n",
       "      <th>repsen16</th>\n",
       "      <th>othersen16</th>\n",
       "      <th>demhouse16</th>\n",
       "      <th>...</th>\n",
       "      <th>age65andolder_pct</th>\n",
       "      <th>median_hh_inc</th>\n",
       "      <th>clf_unemploy_pct</th>\n",
       "      <th>lesshs_pct</th>\n",
       "      <th>lesscollege_pct</th>\n",
       "      <th>lesshs_whites_pct</th>\n",
       "      <th>lesscollege_whites_pct</th>\n",
       "      <th>rural_pct</th>\n",
       "      <th>ruralurban_cc</th>\n",
       "      <th>age30to65_pct</th>\n",
       "    </tr>\n",
       "    <tr>\n",
       "      <th>state</th>\n",
       "      <th>county</th>\n",
       "      <th></th>\n",
       "      <th></th>\n",
       "      <th></th>\n",
       "      <th></th>\n",
       "      <th></th>\n",
       "      <th></th>\n",
       "      <th></th>\n",
       "      <th></th>\n",
       "      <th></th>\n",
       "      <th></th>\n",
       "      <th></th>\n",
       "      <th></th>\n",
       "      <th></th>\n",
       "      <th></th>\n",
       "      <th></th>\n",
       "      <th></th>\n",
       "      <th></th>\n",
       "      <th></th>\n",
       "      <th></th>\n",
       "      <th></th>\n",
       "      <th></th>\n",
       "    </tr>\n",
       "  </thead>\n",
       "  <tbody>\n",
       "    <tr>\n",
       "      <th rowspan=\"5\" valign=\"top\">Alabama</th>\n",
       "      <th>Autauga</th>\n",
       "      <td>18172</td>\n",
       "      <td>5936</td>\n",
       "      <td>865</td>\n",
       "      <td>17379</td>\n",
       "      <td>6363</td>\n",
       "      <td>190</td>\n",
       "      <td>6331.0</td>\n",
       "      <td>18220.0</td>\n",
       "      <td>62.0</td>\n",
       "      <td>7544.0</td>\n",
       "      <td>...</td>\n",
       "      <td>13.978456</td>\n",
       "      <td>53099.0</td>\n",
       "      <td>5.591657</td>\n",
       "      <td>12.417046</td>\n",
       "      <td>75.407229</td>\n",
       "      <td>10.002112</td>\n",
       "      <td>74.065601</td>\n",
       "      <td>42.002162</td>\n",
       "      <td>2.0</td>\n",
       "      <td>26.058602</td>\n",
       "    </tr>\n",
       "    <tr>\n",
       "      <th>Baldwin</th>\n",
       "      <td>72883</td>\n",
       "      <td>18458</td>\n",
       "      <td>3874</td>\n",
       "      <td>66016</td>\n",
       "      <td>18424</td>\n",
       "      <td>898</td>\n",
       "      <td>19145.0</td>\n",
       "      <td>74021.0</td>\n",
       "      <td>248.0</td>\n",
       "      <td>0.0</td>\n",
       "      <td>...</td>\n",
       "      <td>18.714851</td>\n",
       "      <td>51365.0</td>\n",
       "      <td>6.286843</td>\n",
       "      <td>9.972418</td>\n",
       "      <td>70.452889</td>\n",
       "      <td>7.842227</td>\n",
       "      <td>68.405607</td>\n",
       "      <td>42.279099</td>\n",
       "      <td>3.0</td>\n",
       "      <td>16.759561</td>\n",
       "    </tr>\n",
       "    <tr>\n",
       "      <th>Barbour</th>\n",
       "      <td>5454</td>\n",
       "      <td>4871</td>\n",
       "      <td>144</td>\n",
       "      <td>5550</td>\n",
       "      <td>5912</td>\n",
       "      <td>47</td>\n",
       "      <td>4777.0</td>\n",
       "      <td>5436.0</td>\n",
       "      <td>16.0</td>\n",
       "      <td>5297.0</td>\n",
       "      <td>...</td>\n",
       "      <td>16.528895</td>\n",
       "      <td>33956.0</td>\n",
       "      <td>12.824738</td>\n",
       "      <td>26.235928</td>\n",
       "      <td>87.132213</td>\n",
       "      <td>19.579752</td>\n",
       "      <td>81.364746</td>\n",
       "      <td>67.789635</td>\n",
       "      <td>6.0</td>\n",
       "      <td>21.135493</td>\n",
       "    </tr>\n",
       "    <tr>\n",
       "      <th>Bibb</th>\n",
       "      <td>6738</td>\n",
       "      <td>1874</td>\n",
       "      <td>207</td>\n",
       "      <td>6132</td>\n",
       "      <td>2202</td>\n",
       "      <td>86</td>\n",
       "      <td>2082.0</td>\n",
       "      <td>6612.0</td>\n",
       "      <td>17.0</td>\n",
       "      <td>1971.0</td>\n",
       "      <td>...</td>\n",
       "      <td>14.885699</td>\n",
       "      <td>39776.0</td>\n",
       "      <td>7.146827</td>\n",
       "      <td>19.301587</td>\n",
       "      <td>88.000000</td>\n",
       "      <td>15.020490</td>\n",
       "      <td>87.471774</td>\n",
       "      <td>68.352607</td>\n",
       "      <td>1.0</td>\n",
       "      <td>22.443736</td>\n",
       "    </tr>\n",
       "    <tr>\n",
       "      <th>Blount</th>\n",
       "      <td>22859</td>\n",
       "      <td>2156</td>\n",
       "      <td>573</td>\n",
       "      <td>20757</td>\n",
       "      <td>2970</td>\n",
       "      <td>279</td>\n",
       "      <td>2980.0</td>\n",
       "      <td>22169.0</td>\n",
       "      <td>48.0</td>\n",
       "      <td>2390.0</td>\n",
       "      <td>...</td>\n",
       "      <td>17.192916</td>\n",
       "      <td>46212.0</td>\n",
       "      <td>5.953833</td>\n",
       "      <td>19.968585</td>\n",
       "      <td>86.950243</td>\n",
       "      <td>16.643368</td>\n",
       "      <td>86.163610</td>\n",
       "      <td>89.951502</td>\n",
       "      <td>1.0</td>\n",
       "      <td>20.047137</td>\n",
       "    </tr>\n",
       "  </tbody>\n",
       "</table>\n",
       "<p>5 rows × 37 columns</p>\n",
       "</div>"
      ],
      "text/plain": [
       "                 trump16  clinton16  otherpres16  romney12  obama12  \\\n",
       "state   county                                                        \n",
       "Alabama Autauga    18172       5936          865     17379     6363   \n",
       "        Baldwin    72883      18458         3874     66016    18424   \n",
       "        Barbour     5454       4871          144      5550     5912   \n",
       "        Bibb        6738       1874          207      6132     2202   \n",
       "        Blount     22859       2156          573     20757     2970   \n",
       "\n",
       "                 otherpres12  demsen16  repsen16  othersen16  demhouse16  \\\n",
       "state   county                                                             \n",
       "Alabama Autauga          190    6331.0   18220.0        62.0      7544.0   \n",
       "        Baldwin          898   19145.0   74021.0       248.0         0.0   \n",
       "        Barbour           47    4777.0    5436.0        16.0      5297.0   \n",
       "        Bibb              86    2082.0    6612.0        17.0      1971.0   \n",
       "        Blount           279    2980.0   22169.0        48.0      2390.0   \n",
       "\n",
       "                     ...        age65andolder_pct  median_hh_inc  \\\n",
       "state   county       ...                                           \n",
       "Alabama Autauga      ...                13.978456        53099.0   \n",
       "        Baldwin      ...                18.714851        51365.0   \n",
       "        Barbour      ...                16.528895        33956.0   \n",
       "        Bibb         ...                14.885699        39776.0   \n",
       "        Blount       ...                17.192916        46212.0   \n",
       "\n",
       "                 clf_unemploy_pct  lesshs_pct  lesscollege_pct  \\\n",
       "state   county                                                   \n",
       "Alabama Autauga          5.591657   12.417046        75.407229   \n",
       "        Baldwin          6.286843    9.972418        70.452889   \n",
       "        Barbour         12.824738   26.235928        87.132213   \n",
       "        Bibb             7.146827   19.301587        88.000000   \n",
       "        Blount           5.953833   19.968585        86.950243   \n",
       "\n",
       "                 lesshs_whites_pct  lesscollege_whites_pct  rural_pct  \\\n",
       "state   county                                                          \n",
       "Alabama Autauga          10.002112               74.065601  42.002162   \n",
       "        Baldwin           7.842227               68.405607  42.279099   \n",
       "        Barbour          19.579752               81.364746  67.789635   \n",
       "        Bibb             15.020490               87.471774  68.352607   \n",
       "        Blount           16.643368               86.163610  89.951502   \n",
       "\n",
       "                 ruralurban_cc  age30to65_pct  \n",
       "state   county                                 \n",
       "Alabama Autauga            2.0      26.058602  \n",
       "        Baldwin            3.0      16.759561  \n",
       "        Barbour            6.0      21.135493  \n",
       "        Bibb               1.0      22.443736  \n",
       "        Blount             1.0      20.047137  \n",
       "\n",
       "[5 rows x 37 columns]"
      ]
     },
     "execution_count": 112,
     "metadata": {},
     "output_type": "execute_result"
    }
   ],
   "source": [
    "elec2018 = pd.read_csv('../Datasets/2018-elections/election-context-2018.csv').set_index(['state', 'county'])\n",
    "elec2018 = elec2018.drop(columns='fips')\n",
    "elec2018['age30to65_pct'] = abs(elec2018['age29andunder_pct'] - elec2018['age65andolder_pct'])\n",
    "elec2018.head()"
   ]
  },
  {
   "cell_type": "markdown",
   "metadata": {
    "heading_collapsed": true,
    "hidden": true
   },
   "source": [
    "##### What Statistics Do We Have?\n",
    "What kind of contextual information do we have here? Let's list the column labels and their respective indexes. (Note that I've cheated a bit and limited the list to make it managabe; everything after the 19th index is the same `pop_stats` slice.)"
   ]
  },
  {
   "cell_type": "code",
   "execution_count": 113,
   "metadata": {
    "hidden": true
   },
   "outputs": [
    {
     "data": {
      "text/plain": [
       "[(0, 'trump16'),\n",
       " (1, 'clinton16'),\n",
       " (2, 'otherpres16'),\n",
       " (3, 'romney12'),\n",
       " (4, 'obama12'),\n",
       " (5, 'otherpres12'),\n",
       " (6, 'demsen16'),\n",
       " (7, 'repsen16'),\n",
       " (8, 'othersen16'),\n",
       " (9, 'demhouse16'),\n",
       " (10, 'rephouse16'),\n",
       " (11, 'otherhouse16'),\n",
       " (12, 'demgov16'),\n",
       " (13, 'repgov16'),\n",
       " (14, 'othergov16'),\n",
       " (15, 'repgov14'),\n",
       " (16, 'demgov14'),\n",
       " (17, 'othergov14'),\n",
       " (18, 'total_population'),\n",
       " (19, 'cvap')]"
      ]
     },
     "execution_count": 113,
     "metadata": {},
     "output_type": "execute_result"
    }
   ],
   "source": [
    "list(enumerate(elec2018.columns))[:20]"
   ]
  },
  {
   "cell_type": "markdown",
   "metadata": {
    "hidden": true
   },
   "source": [
    "##### Some Useful Index Slices"
   ]
  },
  {
   "cell_type": "code",
   "execution_count": 114,
   "metadata": {
    "hidden": true
   },
   "outputs": [],
   "source": [
    "# All presidential slices\n",
    "pres = elec2018.columns[0:6]\n",
    "pres16 = pres[:3]\n",
    "pres12 = pres[3:]\n",
    "\n",
    "# All congressional slices\n",
    "congress = elec2018.columns[6:12]\n",
    "senate = congress[:3]\n",
    "house = congress[3:]\n",
    "\n",
    "# All gubernatorial slices\n",
    "gov = elec2018.columns[12:18]\n",
    "gov16 = gov[:3]\n",
    "gov14 = gov[3:]\n",
    "\n",
    "# Partisan slices\n",
    "dem = [ind for ind in elec2018.columns if 'dem' in ind] + ['clinton16', 'obama12']\n",
    "rep = [ind for ind in elec2018.columns if 'rep' in ind] + ['trump16', 'romney12']\n",
    "\n",
    "# Population slices\n",
    "pop_stats = elec2018.columns[18:]"
   ]
  },
  {
   "cell_type": "markdown",
   "metadata": {},
   "source": [
    "#### Interesting Constituencies"
   ]
  },
  {
   "cell_type": "markdown",
   "metadata": {},
   "source": [
    "##### Flip Counties"
   ]
  },
  {
   "cell_type": "markdown",
   "metadata": {
    "heading_collapsed": true
   },
   "source": [
    "###### Romney-Clinton Counties"
   ]
  },
  {
   "cell_type": "code",
   "execution_count": 115,
   "metadata": {
    "hidden": true
   },
   "outputs": [
    {
     "data": {
      "text/html": [
       "<div>\n",
       "<style scoped>\n",
       "    .dataframe tbody tr th:only-of-type {\n",
       "        vertical-align: middle;\n",
       "    }\n",
       "\n",
       "    .dataframe tbody tr th {\n",
       "        vertical-align: top;\n",
       "    }\n",
       "\n",
       "    .dataframe thead th {\n",
       "        text-align: right;\n",
       "    }\n",
       "</style>\n",
       "<table border=\"1\" class=\"dataframe\">\n",
       "  <thead>\n",
       "    <tr style=\"text-align: right;\">\n",
       "      <th></th>\n",
       "      <th></th>\n",
       "      <th>trump16</th>\n",
       "      <th>clinton16</th>\n",
       "      <th>otherpres16</th>\n",
       "      <th>romney12</th>\n",
       "      <th>obama12</th>\n",
       "      <th>otherpres12</th>\n",
       "    </tr>\n",
       "    <tr>\n",
       "      <th>state</th>\n",
       "      <th>county</th>\n",
       "      <th></th>\n",
       "      <th></th>\n",
       "      <th></th>\n",
       "      <th></th>\n",
       "      <th></th>\n",
       "      <th></th>\n",
       "    </tr>\n",
       "  </thead>\n",
       "  <tbody>\n",
       "    <tr>\n",
       "      <th rowspan=\"2\" valign=\"top\">California</th>\n",
       "      <th>Nevada</th>\n",
       "      <td>23365</td>\n",
       "      <td>26053</td>\n",
       "      <td>5517</td>\n",
       "      <td>24986</td>\n",
       "      <td>24663</td>\n",
       "      <td>2027</td>\n",
       "    </tr>\n",
       "    <tr>\n",
       "      <th>Orange</th>\n",
       "      <td>507148</td>\n",
       "      <td>609961</td>\n",
       "      <td>80412</td>\n",
       "      <td>582332</td>\n",
       "      <td>512440</td>\n",
       "      <td>27892</td>\n",
       "    </tr>\n",
       "    <tr>\n",
       "      <th rowspan=\"3\" valign=\"top\">Georgia</th>\n",
       "      <th>Cobb</th>\n",
       "      <td>152912</td>\n",
       "      <td>160121</td>\n",
       "      <td>17786</td>\n",
       "      <td>171722</td>\n",
       "      <td>133124</td>\n",
       "      <td>5270</td>\n",
       "    </tr>\n",
       "    <tr>\n",
       "      <th>Gwinnett</th>\n",
       "      <td>146989</td>\n",
       "      <td>166153</td>\n",
       "      <td>15189</td>\n",
       "      <td>159855</td>\n",
       "      <td>132509</td>\n",
       "      <td>4364</td>\n",
       "    </tr>\n",
       "    <tr>\n",
       "      <th>Henry</th>\n",
       "      <td>45724</td>\n",
       "      <td>50057</td>\n",
       "      <td>2985</td>\n",
       "      <td>46774</td>\n",
       "      <td>43761</td>\n",
       "      <td>843</td>\n",
       "    </tr>\n",
       "  </tbody>\n",
       "</table>\n",
       "</div>"
      ],
      "text/plain": [
       "                     trump16  clinton16  otherpres16  romney12  obama12  \\\n",
       "state      county                                                         \n",
       "California Nevada      23365      26053         5517     24986    24663   \n",
       "           Orange     507148     609961        80412    582332   512440   \n",
       "Georgia    Cobb       152912     160121        17786    171722   133124   \n",
       "           Gwinnett   146989     166153        15189    159855   132509   \n",
       "           Henry       45724      50057         2985     46774    43761   \n",
       "\n",
       "                     otherpres12  \n",
       "state      county                 \n",
       "California Nevada           2027  \n",
       "           Orange          27892  \n",
       "Georgia    Cobb             5270  \n",
       "           Gwinnett         4364  \n",
       "           Henry             843  "
      ]
     },
     "execution_count": 115,
     "metadata": {},
     "output_type": "execute_result"
    }
   ],
   "source": [
    "rom_clin = elec2018[(elec2018['clinton16'] > elec2018['trump16'])\n",
    "                    & (elec2018['romney12'] > elec2018['obama12'])]\n",
    "rom_clin.loc[:, pres].head()"
   ]
  },
  {
   "cell_type": "code",
   "execution_count": 116,
   "metadata": {
    "hidden": true
   },
   "outputs": [
    {
     "data": {
      "text/plain": [
       "18"
      ]
     },
     "execution_count": 116,
     "metadata": {},
     "output_type": "execute_result"
    }
   ],
   "source": [
    "len(rom_clin)"
   ]
  },
  {
   "cell_type": "markdown",
   "metadata": {
    "heading_collapsed": true
   },
   "source": [
    "###### Obama-Trump Counties"
   ]
  },
  {
   "cell_type": "code",
   "execution_count": 117,
   "metadata": {
    "hidden": true,
    "scrolled": true
   },
   "outputs": [
    {
     "data": {
      "text/html": [
       "<div>\n",
       "<style scoped>\n",
       "    .dataframe tbody tr th:only-of-type {\n",
       "        vertical-align: middle;\n",
       "    }\n",
       "\n",
       "    .dataframe tbody tr th {\n",
       "        vertical-align: top;\n",
       "    }\n",
       "\n",
       "    .dataframe thead th {\n",
       "        text-align: right;\n",
       "    }\n",
       "</style>\n",
       "<table border=\"1\" class=\"dataframe\">\n",
       "  <thead>\n",
       "    <tr style=\"text-align: right;\">\n",
       "      <th></th>\n",
       "      <th></th>\n",
       "      <th>trump16</th>\n",
       "      <th>clinton16</th>\n",
       "      <th>otherpres16</th>\n",
       "      <th>romney12</th>\n",
       "      <th>obama12</th>\n",
       "      <th>otherpres12</th>\n",
       "    </tr>\n",
       "    <tr>\n",
       "      <th>state</th>\n",
       "      <th>county</th>\n",
       "      <th></th>\n",
       "      <th></th>\n",
       "      <th></th>\n",
       "      <th></th>\n",
       "      <th></th>\n",
       "      <th></th>\n",
       "    </tr>\n",
       "  </thead>\n",
       "  <tbody>\n",
       "    <tr>\n",
       "      <th rowspan=\"2\" valign=\"top\">Alabama</th>\n",
       "      <th>Barbour</th>\n",
       "      <td>5454</td>\n",
       "      <td>4871</td>\n",
       "      <td>144</td>\n",
       "      <td>5550</td>\n",
       "      <td>5912</td>\n",
       "      <td>47</td>\n",
       "    </tr>\n",
       "    <tr>\n",
       "      <th>Conecuh</th>\n",
       "      <td>3420</td>\n",
       "      <td>3080</td>\n",
       "      <td>85</td>\n",
       "      <td>3439</td>\n",
       "      <td>3555</td>\n",
       "      <td>28</td>\n",
       "    </tr>\n",
       "    <tr>\n",
       "      <th>Arkansas</th>\n",
       "      <th>Woodruff</th>\n",
       "      <td>1347</td>\n",
       "      <td>1118</td>\n",
       "      <td>106</td>\n",
       "      <td>1227</td>\n",
       "      <td>1340</td>\n",
       "      <td>118</td>\n",
       "    </tr>\n",
       "    <tr>\n",
       "      <th rowspan=\"2\" valign=\"top\">Colorado</th>\n",
       "      <th>Chaffee</th>\n",
       "      <td>5391</td>\n",
       "      <td>4888</td>\n",
       "      <td>971</td>\n",
       "      <td>5070</td>\n",
       "      <td>5086</td>\n",
       "      <td>306</td>\n",
       "    </tr>\n",
       "    <tr>\n",
       "      <th>Conejos</th>\n",
       "      <td>1914</td>\n",
       "      <td>1771</td>\n",
       "      <td>337</td>\n",
       "      <td>1835</td>\n",
       "      <td>2213</td>\n",
       "      <td>53</td>\n",
       "    </tr>\n",
       "  </tbody>\n",
       "</table>\n",
       "</div>"
      ],
      "text/plain": [
       "                   trump16  clinton16  otherpres16  romney12  obama12  \\\n",
       "state    county                                                         \n",
       "Alabama  Barbour      5454       4871          144      5550     5912   \n",
       "         Conecuh      3420       3080           85      3439     3555   \n",
       "Arkansas Woodruff     1347       1118          106      1227     1340   \n",
       "Colorado Chaffee      5391       4888          971      5070     5086   \n",
       "         Conejos      1914       1771          337      1835     2213   \n",
       "\n",
       "                   otherpres12  \n",
       "state    county                 \n",
       "Alabama  Barbour            47  \n",
       "         Conecuh            28  \n",
       "Arkansas Woodruff          118  \n",
       "Colorado Chaffee           306  \n",
       "         Conejos            53  "
      ]
     },
     "execution_count": 117,
     "metadata": {},
     "output_type": "execute_result"
    }
   ],
   "source": [
    "obama_trump = elec2018[(elec2018['clinton16'] < elec2018['trump16'])\n",
    "                    & (elec2018['romney12'] < elec2018['obama12'])]\n",
    "obama_trump.loc[:, pres].head()"
   ]
  },
  {
   "cell_type": "code",
   "execution_count": 118,
   "metadata": {
    "hidden": true
   },
   "outputs": [
    {
     "data": {
      "text/plain": [
       "223"
      ]
     },
     "execution_count": 118,
     "metadata": {},
     "output_type": "execute_result"
    }
   ],
   "source": [
    "len(obama_trump)"
   ]
  },
  {
   "cell_type": "markdown",
   "metadata": {
    "heading_collapsed": true
   },
   "source": [
    "###### All \"Flip\" Counties"
   ]
  },
  {
   "cell_type": "code",
   "execution_count": 119,
   "metadata": {
    "hidden": true
   },
   "outputs": [
    {
     "data": {
      "text/html": [
       "<div>\n",
       "<style scoped>\n",
       "    .dataframe tbody tr th:only-of-type {\n",
       "        vertical-align: middle;\n",
       "    }\n",
       "\n",
       "    .dataframe tbody tr th {\n",
       "        vertical-align: top;\n",
       "    }\n",
       "\n",
       "    .dataframe thead th {\n",
       "        text-align: right;\n",
       "    }\n",
       "</style>\n",
       "<table border=\"1\" class=\"dataframe\">\n",
       "  <thead>\n",
       "    <tr style=\"text-align: right;\">\n",
       "      <th></th>\n",
       "      <th></th>\n",
       "      <th>trump16</th>\n",
       "      <th>clinton16</th>\n",
       "      <th>otherpres16</th>\n",
       "      <th>romney12</th>\n",
       "      <th>obama12</th>\n",
       "      <th>otherpres12</th>\n",
       "    </tr>\n",
       "    <tr>\n",
       "      <th>state</th>\n",
       "      <th>county</th>\n",
       "      <th></th>\n",
       "      <th></th>\n",
       "      <th></th>\n",
       "      <th></th>\n",
       "      <th></th>\n",
       "      <th></th>\n",
       "    </tr>\n",
       "  </thead>\n",
       "  <tbody>\n",
       "    <tr>\n",
       "      <th rowspan=\"2\" valign=\"top\">California</th>\n",
       "      <th>Nevada</th>\n",
       "      <td>23365</td>\n",
       "      <td>26053</td>\n",
       "      <td>5517</td>\n",
       "      <td>24986</td>\n",
       "      <td>24663</td>\n",
       "      <td>2027</td>\n",
       "    </tr>\n",
       "    <tr>\n",
       "      <th>Orange</th>\n",
       "      <td>507148</td>\n",
       "      <td>609961</td>\n",
       "      <td>80412</td>\n",
       "      <td>582332</td>\n",
       "      <td>512440</td>\n",
       "      <td>27892</td>\n",
       "    </tr>\n",
       "    <tr>\n",
       "      <th rowspan=\"3\" valign=\"top\">Georgia</th>\n",
       "      <th>Cobb</th>\n",
       "      <td>152912</td>\n",
       "      <td>160121</td>\n",
       "      <td>17786</td>\n",
       "      <td>171722</td>\n",
       "      <td>133124</td>\n",
       "      <td>5270</td>\n",
       "    </tr>\n",
       "    <tr>\n",
       "      <th>Gwinnett</th>\n",
       "      <td>146989</td>\n",
       "      <td>166153</td>\n",
       "      <td>15189</td>\n",
       "      <td>159855</td>\n",
       "      <td>132509</td>\n",
       "      <td>4364</td>\n",
       "    </tr>\n",
       "    <tr>\n",
       "      <th>Henry</th>\n",
       "      <td>45724</td>\n",
       "      <td>50057</td>\n",
       "      <td>2985</td>\n",
       "      <td>46774</td>\n",
       "      <td>43761</td>\n",
       "      <td>843</td>\n",
       "    </tr>\n",
       "  </tbody>\n",
       "</table>\n",
       "</div>"
      ],
      "text/plain": [
       "                     trump16  clinton16  otherpres16  romney12  obama12  \\\n",
       "state      county                                                         \n",
       "California Nevada      23365      26053         5517     24986    24663   \n",
       "           Orange     507148     609961        80412    582332   512440   \n",
       "Georgia    Cobb       152912     160121        17786    171722   133124   \n",
       "           Gwinnett   146989     166153        15189    159855   132509   \n",
       "           Henry       45724      50057         2985     46774    43761   \n",
       "\n",
       "                     otherpres12  \n",
       "state      county                 \n",
       "California Nevada           2027  \n",
       "           Orange          27892  \n",
       "Georgia    Cobb             5270  \n",
       "           Gwinnett         4364  \n",
       "           Henry             843  "
      ]
     },
     "execution_count": 119,
     "metadata": {},
     "output_type": "execute_result"
    }
   ],
   "source": [
    "flips = rom_clin.append(obama_trump, sort=True)\n",
    "flips.loc[:, pres].head()"
   ]
  },
  {
   "cell_type": "code",
   "execution_count": 120,
   "metadata": {
    "hidden": true
   },
   "outputs": [
    {
     "data": {
      "text/plain": [
       "241"
      ]
     },
     "execution_count": 120,
     "metadata": {},
     "output_type": "execute_result"
    }
   ],
   "source": [
    "# We expect this number to be 223 + 18\n",
    "len(flips)"
   ]
  },
  {
   "cell_type": "markdown",
   "metadata": {
    "heading_collapsed": true
   },
   "source": [
    "###### Largest Flips in the Nations\n",
    "Let's find which counties showed the change relative to the size of their electorate. First we'll need to get a sum of the entire electorate in these counties. To do this we will get the sum of all three presidential columns for each election. Recall that this includes third party candidates."
   ]
  },
  {
   "cell_type": "code",
   "execution_count": 121,
   "metadata": {
    "hidden": true
   },
   "outputs": [
    {
     "data": {
      "text/plain": [
       "state       county  \n",
       "California  Nevada        51676\n",
       "            Orange      1122664\n",
       "Georgia     Cobb         310116\n",
       "            Gwinnett     296728\n",
       "            Henry         91378\n",
       "dtype: int64"
      ]
     },
     "execution_count": 121,
     "metadata": {},
     "output_type": "execute_result"
    }
   ],
   "source": [
    "rom_clin16 = rom_clin.loc[:, pres16].sum(1)\n",
    "rom_clin12 = rom_clin.loc[:, pres12].sum(1)\n",
    "rom_clin12.head()"
   ]
  },
  {
   "cell_type": "code",
   "execution_count": 122,
   "metadata": {
    "hidden": true,
    "scrolled": true
   },
   "outputs": [
    {
     "data": {
      "text/plain": [
       "state     county  \n",
       "Alabama   Barbour     11509\n",
       "          Conecuh      7022\n",
       "Arkansas  Woodruff     2685\n",
       "Colorado  Chaffee     10462\n",
       "          Conejos      4101\n",
       "dtype: int64"
      ]
     },
     "execution_count": 122,
     "metadata": {},
     "output_type": "execute_result"
    }
   ],
   "source": [
    "obama_trump16 = obama_trump.loc[:, pres16].sum(1)\n",
    "obama_trump12 = obama_trump.loc[:, pres12].sum(1)\n",
    "obama_trump12.head()"
   ]
  },
  {
   "cell_type": "markdown",
   "metadata": {
    "heading_collapsed": true
   },
   "source": [
    "###### Relative Differences\n",
    "We get the relative differences by taking the percentage of the votes of each electorate the candidates earned and subtracting those two numbers. Because we have third party candidates, there is a difference between the voters who went _away_ from one party and the candidates who went _to_ another. This is illustrated below. If we had only summated the votes from the two major parties, the two lists below would be identical. Bear in mind that `clinton_loss` is sort in ascending order because the relevant counties are ones where she _underperformed_ her predecessor, whereas `trump_gain` is sorted in descending order because we are concerned with places where he _outperformed_ his predecessor."
   ]
  },
  {
   "cell_type": "code",
   "execution_count": 123,
   "metadata": {
    "hidden": true
   },
   "outputs": [
    {
     "data": {
      "text/plain": [
       "state         county   \n",
       "Kentucky      Elliott     -0.235178\n",
       "Iowa          Howard      -0.228066\n",
       "Illinois      Henderson   -0.226061\n",
       "Iowa          Jackson     -0.204580\n",
       "              Worth       -0.203871\n",
       "Vermont       Essex       -0.201660\n",
       "Minnesota     Swift       -0.199805\n",
       "North Dakota  Ransom      -0.198579\n",
       "Iowa          Chickasaw   -0.195982\n",
       "North Dakota  Sargent     -0.188104\n",
       "dtype: float64"
      ]
     },
     "execution_count": 123,
     "metadata": {},
     "output_type": "execute_result"
    }
   ],
   "source": [
    "clinton_loss = (obama_trump['clinton16'] / obama_trump16) - (obama_trump['obama12'] / obama_trump12)\n",
    "clinton_loss.sort_values()[:10]"
   ]
  },
  {
   "cell_type": "code",
   "execution_count": 124,
   "metadata": {
    "hidden": true
   },
   "outputs": [
    {
     "data": {
      "text/plain": [
       "state      county    \n",
       "Kentucky   Elliott       0.231163\n",
       "Iowa       Howard        0.186276\n",
       "Illinois   Henderson     0.180669\n",
       "New York   Oswego        0.179756\n",
       "Iowa       Worth         0.158202\n",
       "           Jackson       0.157058\n",
       "New York   Franklin      0.156666\n",
       "Minnesota  Swift         0.154164\n",
       "New York   Montgomery    0.150676\n",
       "           Cayuga        0.150416\n",
       "dtype: float64"
      ]
     },
     "execution_count": 124,
     "metadata": {},
     "output_type": "execute_result"
    }
   ],
   "source": [
    "trump_gain = (obama_trump['trump16'] / obama_trump16) - (obama_trump['romney12'] / obama_trump12)\n",
    "trump_gain.sort_values(ascending=False)[:10]"
   ]
  },
  {
   "cell_type": "code",
   "execution_count": 125,
   "metadata": {
    "hidden": true
   },
   "outputs": [
    {
     "data": {
      "text/plain": [
       "state         county    \n",
       "Pennsylvania  Lackawanna    0.144509\n",
       "Georgia       Gwinnett      0.059486\n",
       "              Cobb          0.054742\n",
       "Texas         Fort Bend     0.053123\n",
       "California    Orange        0.052903\n",
       "Utah          Summit        0.047268\n",
       "Texas         Kenedy        0.041240\n",
       "Utah          Salt Lake     0.037068\n",
       "Pennsylvania  Chester       0.033740\n",
       "Georgia       Henry         0.027923\n",
       "dtype: float64"
      ]
     },
     "execution_count": 125,
     "metadata": {},
     "output_type": "execute_result"
    }
   ],
   "source": [
    "clinton_gain = (rom_clin['clinton16'] / rom_clin16 - (rom_clin['obama12'] / rom_clin12))\n",
    "clinton_gain.sort_values(ascending=False)[:10]"
   ]
  },
  {
   "cell_type": "code",
   "execution_count": 126,
   "metadata": {
    "hidden": true
   },
   "outputs": [
    {
     "data": {
      "text/plain": [
       "state         county    \n",
       "Utah          Salt Lake    -0.256639\n",
       "Pennsylvania  Lackawanna   -0.163226\n",
       "Utah          Summit       -0.152742\n",
       "California    Orange       -0.095207\n",
       "Georgia       Cobb         -0.091512\n",
       "              Gwinnett     -0.091040\n",
       "Texas         Fort Bend    -0.081512\n",
       "Washington    Whitman      -0.069080\n",
       "Montana       Gallatin     -0.066449\n",
       "Pennsylvania  Chester      -0.063478\n",
       "dtype: float64"
      ]
     },
     "execution_count": 126,
     "metadata": {},
     "output_type": "execute_result"
    }
   ],
   "source": [
    "trump_loss = (rom_clin['trump16'] / rom_clin16) - (rom_clin['romney12'] / rom_clin12)\n",
    "trump_loss.sort_values()[:10]"
   ]
  },
  {
   "cell_type": "code",
   "execution_count": 127,
   "metadata": {
    "hidden": true
   },
   "outputs": [
    {
     "name": "stdout",
     "output_type": "stream",
     "text": [
      "0.026546155155501665\n",
      "-0.11420996928000063\n",
      "0.07882622839072226\n",
      "-0.0832015734032821\n"
     ]
    }
   ],
   "source": [
    "for frame in [clinton_gain, clinton_loss, trump_gain, trump_loss]:\n",
    "    print(frame.mean())"
   ]
  },
  {
   "cell_type": "markdown",
   "metadata": {
    "hidden": true
   },
   "source": [
    "Third Party Gains"
   ]
  },
  {
   "cell_type": "code",
   "execution_count": 128,
   "metadata": {
    "hidden": true
   },
   "outputs": [
    {
     "data": {
      "text/plain": [
       "state         county   \n",
       "Utah          Salt Lake    0.222316\n",
       "              Summit       0.110121\n",
       "Vermont       Essex        0.104274\n",
       "North Dakota  Ransom       0.100890\n",
       "              Benson       0.092491\n",
       "dtype: float64"
      ]
     },
     "execution_count": 128,
     "metadata": {},
     "output_type": "execute_result"
    }
   ],
   "source": [
    "total_tp_elec = flips.loc[:, pres16].sum(1)\n",
    "tp_gain = (flips['otherpres16'] / total_tp_elec) - (flips['otherpres12'] / total_tp_elec)\n",
    "tp_gain.sort_values(ascending=False).head()"
   ]
  },
  {
   "cell_type": "code",
   "execution_count": 129,
   "metadata": {
    "hidden": true
   },
   "outputs": [
    {
     "data": {
      "text/plain": [
       "state     county    \n",
       "New York  Montgomery   -0.045975\n",
       "          Niagara      -0.044761\n",
       "          Suffolk      -0.042199\n",
       "          Rensselaer   -0.036262\n",
       "          Richmond     -0.034903\n",
       "dtype: float64"
      ]
     },
     "execution_count": 129,
     "metadata": {},
     "output_type": "execute_result"
    }
   ],
   "source": [
    "tp_gain.sort_values().head()"
   ]
  },
  {
   "cell_type": "markdown",
   "metadata": {
    "hidden": true
   },
   "source": [
    "It seems that third parties (and in particular Even McMullen in Utah) were the real winners in 2016. Even among major parties, notice that there is enough difference for counties to move up and down in the sorted lists."
   ]
  },
  {
   "cell_type": "code",
   "execution_count": 130,
   "metadata": {
    "hidden": true
   },
   "outputs": [
    {
     "data": {
      "text/plain": [
       "state     county   \n",
       "Kentucky  Elliott      0.466341\n",
       "Iowa      Howard       0.414342\n",
       "Illinois  Henderson    0.406730\n",
       "Iowa      Worth        0.362073\n",
       "          Jackson      0.361638\n",
       "dtype: float64"
      ]
     },
     "execution_count": 130,
     "metadata": {},
     "output_type": "execute_result"
    }
   ],
   "source": [
    "(trump_gain - clinton_loss).sort_values(ascending=False).head()"
   ]
  },
  {
   "cell_type": "code",
   "execution_count": 131,
   "metadata": {
    "hidden": true
   },
   "outputs": [
    {
     "data": {
      "text/plain": [
       "state           county      \n",
       "North Carolina  Nash           -0.011475\n",
       "New Hampshire   Hillsborough   -0.013221\n",
       "Texas           Jefferson      -0.020872\n",
       "Virginia        Chesapeake     -0.023032\n",
       "Washington      Clallam        -0.032066\n",
       "dtype: float64"
      ]
     },
     "execution_count": 131,
     "metadata": {},
     "output_type": "execute_result"
    }
   ],
   "source": [
    "(clinton_loss - trump_gain).sort_values(ascending=False).head()"
   ]
  },
  {
   "cell_type": "markdown",
   "metadata": {},
   "source": [
    "###### Visualizing Flip Counties"
   ]
  },
  {
   "cell_type": "code",
   "execution_count": 133,
   "metadata": {},
   "outputs": [
    {
     "data": {
      "text/plain": [
       "<matplotlib.axes._subplots.AxesSubplot at 0x11c404a58>"
      ]
     },
     "execution_count": 133,
     "metadata": {},
     "output_type": "execute_result"
    },
    {
     "data": {
      "image/png": "[encoded data removed]",
      "text/plain": [
       "<Figure size 432x288 with 1 Axes>"
      ]
     },
     "metadata": {
      "needs_background": "light"
     },
     "output_type": "display_data"
    }
   ],
   "source": [
    "%matplotlib inline\n",
    "columns_to_keep = ['trump2016', 'clint2016',\n",
    "                   'age29andunder_pct', 'age30to64_pct',\n",
    "                   'age65andolder_pct']\n",
    "\n",
    "for column in pres16:\n",
    "    elec2018['%' + column] = elec2018[column] / elec2018.loc[:, pres16].sum(1)\n",
    "    \n",
    "elec2018.plot.scatter(x='%trump16', y='age65andolder_pct')"
   ]
  },
  {
   "cell_type": "code",
   "execution_count": 187,
   "metadata": {},
   "outputs": [
    {
     "data": {
      "text/plain": [
       "<matplotlib.axes._subplots.AxesSubplot at 0x125272240>"
      ]
     },
     "execution_count": 187,
     "metadata": {},
     "output_type": "execute_result"
    },
    {
     "data": {
      "image/png": "[encoded data removed]",
      "text/plain": [
       "<Figure size 432x288 with 2 Axes>"
      ]
     },
     "metadata": {
      "needs_background": "light"
     },
     "output_type": "display_data"
    }
   ],
   "source": [
    "elec2018.plot.hexbin(x='%clinton16', y='age29andunder_pct', C='%trump16')"
   ]
  },
  {
   "cell_type": "code",
   "execution_count": 135,
   "metadata": {},
   "outputs": [
    {
     "data": {
      "text/plain": [
       "<matplotlib.axes._subplots.AxesSubplot at 0x11c9b00b8>"
      ]
     },
     "execution_count": 135,
     "metadata": {},
     "output_type": "execute_result"
    },
    {
     "data": {
      "image/png": "[encoded data removed]",
      "text/plain": [
       "<Figure size 432x288 with 1 Axes>"
      ]
     },
     "metadata": {
      "needs_background": "light"
     },
     "output_type": "display_data"
    }
   ],
   "source": [
    "obama_trump.plot.hist(y='median_hh_inc', bins=50)"
   ]
  },
  {
   "cell_type": "code",
   "execution_count": 136,
   "metadata": {},
   "outputs": [
    {
     "data": {
      "text/plain": [
       "<matplotlib.axes._subplots.AxesSubplot at 0x11d41d0b8>"
      ]
     },
     "execution_count": 136,
     "metadata": {},
     "output_type": "execute_result"
    },
    {
     "data": {
      "image/png": "[encoded data removed]",
      "text/plain": [
       "<Figure size 432x288 with 1 Axes>"
      ]
     },
     "metadata": {
      "needs_background": "light"
     },
     "output_type": "display_data"
    }
   ],
   "source": [
    "rom_clin.plot.hist(y='median_hh_inc', bins=20)"
   ]
  },
  {
   "cell_type": "code",
   "execution_count": 137,
   "metadata": {},
   "outputs": [
    {
     "data": {
      "text/plain": [
       "<matplotlib.axes._subplots.AxesSubplot at 0x11d538c88>"
      ]
     },
     "execution_count": 137,
     "metadata": {},
     "output_type": "execute_result"
    },
    {
     "data": {
      "image/png": "[encoded data removed]",
      "text/plain": [
       "<Figure size 432x288 with 1 Axes>"
      ]
     },
     "metadata": {
      "needs_background": "light"
     },
     "output_type": "display_data"
    }
   ],
   "source": [
    "trump16 = elec2018[elec2018['trump16'] > elec2018['clinton16']]\n",
    "trump16.plot.hist(y='median_hh_inc', bins=100)"
   ]
  },
  {
   "cell_type": "code",
   "execution_count": 138,
   "metadata": {},
   "outputs": [
    {
     "data": {
      "text/plain": [
       "<matplotlib.axes._subplots.AxesSubplot at 0x11d6c4da0>"
      ]
     },
     "execution_count": 138,
     "metadata": {},
     "output_type": "execute_result"
    },
    {
     "data": {
      "image/png": "[encoded data removed]",
      "text/plain": [
       "<Figure size 432x288 with 1 Axes>"
      ]
     },
     "metadata": {
      "needs_background": "light"
     },
     "output_type": "display_data"
    }
   ],
   "source": [
    "clinton16 = elec2018[elec2018['clinton16'] > elec2018['trump16']]\n",
    "clinton16.plot.hist(y='median_hh_inc', bins=100)"
   ]
  },
  {
   "cell_type": "code",
   "execution_count": 139,
   "metadata": {},
   "outputs": [
    {
     "data": {
      "text/plain": [
       "<matplotlib.axes._subplots.AxesSubplot at 0x11d8502b0>"
      ]
     },
     "execution_count": 139,
     "metadata": {},
     "output_type": "execute_result"
    },
    {
     "data": {
      "image/png": "[encoded data removed]",
      "text/plain": [
       "<Figure size 432x288 with 1 Axes>"
      ]
     },
     "metadata": {
      "needs_background": "light"
     },
     "output_type": "display_data"
    }
   ],
   "source": [
    "elec2018[(elec2018['median_hh_inc'] > elec2018['median_hh_inc'].mean())\n",
    "         & (elec2018['nonwhite_pct'] > elec2018['nonwhite_pct'].mean())].plot.hist(y='%trump16', bins=50)"
   ]
  },
  {
   "cell_type": "code",
   "execution_count": 200,
   "metadata": {},
   "outputs": [
    {
     "data": {
      "text/plain": [
       "<matplotlib.axes._subplots.AxesSubplot at 0x1262d44e0>"
      ]
     },
     "execution_count": 200,
     "metadata": {},
     "output_type": "execute_result"
    },
    {
     "data": {
      "image/png": "[encoded data removed]",
      "text/plain": [
       "<Figure size 432x288 with 1 Axes>"
      ]
     },
     "metadata": {
      "needs_background": "light"
     },
     "output_type": "display_data"
    }
   ],
   "source": [
    "age_bins = ['age29andunder_pct', 'age30to65_pct', 'age65andolder_pct']\n",
    "elec2018.reset_index().set_index('%trump16').sort_index().dropna().loc[:, age_bins].plot()"
   ]
  }
 ],
 "metadata": {
  "kernelspec": {
   "display_name": "Python 3",
   "language": "python",
   "name": "python3"
  },
  "language_info": {
   "codemirror_mode": {
    "name": "ipython",
    "version": 3
   },
   "file_extension": ".py",
   "mimetype": "text/x-python",
   "name": "python",
   "nbconvert_exporter": "python",
   "pygments_lexer": "ipython3",
   "version": "3.7.1"
  },
  "varInspector": {
   "cols": {
    "lenName": 16,
    "lenType": 16,
    "lenVar": 40
   },
   "kernels_config": {
    "python": {
     "delete_cmd_postfix": "",
     "delete_cmd_prefix": "del ",
     "library": "var_list.py",
     "varRefreshCmd": "print(var_dic_list())"
    },
    "r": {
     "delete_cmd_postfix": ") ",
     "delete_cmd_prefix": "rm(",
     "library": "var_list.r",
     "varRefreshCmd": "cat(var_dic_list()) "
    }
   },
   "types_to_exclude": [
    "module",
    "function",
    "builtin_function_or_method",
    "instance",
    "_Feature"
   ],
   "window_display": false
  }
 },
 "nbformat": 4,
 "nbformat_minor": 2
}
